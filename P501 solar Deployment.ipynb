{
 "cells": [
  {
   "cell_type": "code",
   "execution_count": 7,
   "id": "5e7fa0c5-eecd-47b0-a8e8-fada3dd72a7d",
   "metadata": {},
   "outputs": [],
   "source": [
    "import pickle\n",
    "import pandas as pd\n",
    "import streamlit as st"
   ]
  },
  {
   "cell_type": "code",
   "execution_count": 8,
   "id": "33130393-5cb3-439f-989d-6e1274a3317e",
   "metadata": {},
   "outputs": [],
   "source": [
    "# Load the trained model\n",
    "model = pickle.load(open(\"solar_power_model.pkl\", \"rb\"))\n",
    "\n",
    "# Streamlit UI\n",
    "st.title(\"Solar Power Prediction\")\n",
    "\n",
    "# Define valid input ranges\n",
    "valid_ranges = {\n",
    "    \"distance_to_solar_noon\": (0, 0.61),\n",
    "    \"temperature\": (0, 150),\n",
    "    \"wind_direction\": (0, 360),\n",
    "    \"wind_speed\": (0, 100),\n",
    "    \"sky_cover\": (0, 10),\n",
    "    \"visibility\": (0, 100),\n",
    "    \"humidity\": (0, 100),\n",
    "    \"average_wind_speed_period\": (0, 100),\n",
    "    \"average_pressure_period\": (0, 50),\n",
    "}\n",
    "\n",
    "# Collect user input\n",
    "distance = st.number_input(\"Distance to Solar Noon (0 to 0.61)\", min_value=0.0, max_value=0.61, step=0.01)\n",
    "temperature = st.number_input(\"Temperature (0 to 150°F)\", min_value=0.0, max_value=150.0, step=0.1)\n",
    "wind_direction = st.number_input(\"Wind Direction (0 to 360°)\", min_value=0.0, max_value=360.0, step=1.0)\n",
    "wind_speed = st.number_input(\"Wind Speed (0 to 100 mph)\", min_value=0.0, max_value=100.0, step=0.1)\n",
    "sky_cover = st.number_input(\"Sky Cover (0 to 10)\", min_value=0.0, max_value=10.0, step=1.0)\n",
    "visibility = st.number_input(\"Visibility (0 to 100 miles)\", min_value=0.0, max_value=100.0, step=0.1)\n",
    "humidity = st.number_input(\"Humidity (0 to 100%)\", min_value=0.0, max_value=100.0, step=0.1)\n",
    "average_wind_speed = st.number_input(\"Average Wind Speed Period (0 to 100)\", min_value=0.0, max_value=100.0, step=0.1)\n",
    "average_pressure = st.number_input(\"Average Pressure Period (0 to 50)\", min_value=0.0, max_value=50.0, step=0.1)\n",
    "\n",
    "# Collect user inputs into a dictionary\n",
    "user_inputs = {\n",
    "    \"distance_to_solar_noon\": distance,\n",
    "    \"temperature\": temperature,\n",
    "    \"wind_direction\": wind_direction,\n",
    "    \"wind_speed\": wind_speed,\n",
    "    \"sky_cover\": sky_cover,\n",
    "    \"visibility\": visibility,\n",
    "    \"humidity\": humidity,\n",
    "    \"average_wind_speed_period\": average_wind_speed,\n",
    "    \"average_pressure_period\": average_pressure,\n",
    "}\n",
    "\n",
    "# Predict button\n",
    "if st.button(\"Predict Power\"):\n",
    "    # Validate user input\n",
    "    invalid_inputs = [\n",
    "        (name, value) for name, value in user_inputs.items()\n",
    "        if not (valid_ranges[name][0] <= value <= valid_ranges[name][1])\n",
    "    ]\n",
    "\n",
    "    if invalid_inputs:\n",
    "        for name, value in invalid_inputs:\n",
    "            st.error(f\"❌ {name.replace('_', ' ').title()} must be between {valid_ranges[name][0]} and {valid_ranges[name][1]}. You entered: {value}\")\n",
    "    else:\n",
    "        # Prepare data for prediction\n",
    "        data = pd.DataFrame([list(user_inputs.values())], columns=user_inputs.keys())\n",
    "\n",
    "        # Make prediction\n",
    "        prediction = model.predict(data)[0]\n",
    "        st.success(f\"✅ Predicted Power Generation: {prediction:.2f} kW\")\n"
   ]
  },
  {
   "cell_type": "code",
   "execution_count": null,
   "id": "d406325a-ea36-49fc-854f-91a4ea1a0b2f",
   "metadata": {},
   "outputs": [],
   "source": []
  },
  {
   "cell_type": "code",
   "execution_count": null,
   "id": "0cc348f7-695a-459c-b99b-11e03645468a",
   "metadata": {},
   "outputs": [],
   "source": []
  },
  {
   "cell_type": "code",
   "execution_count": null,
   "id": "7e1ea269-8f09-437f-b836-114d29e3aa4c",
   "metadata": {},
   "outputs": [],
   "source": []
  },
  {
   "cell_type": "code",
   "execution_count": null,
   "id": "47cfc291-cb81-455d-85ec-dedf6f0ba2f5",
   "metadata": {},
   "outputs": [],
   "source": []
  }
 ],
 "metadata": {
  "kernelspec": {
   "display_name": "your_env_name",
   "language": "python",
   "name": "your_env_name"
  },
  "language_info": {
   "codemirror_mode": {
    "name": "ipython",
    "version": 3
   },
   "file_extension": ".py",
   "mimetype": "text/x-python",
   "name": "python",
   "nbconvert_exporter": "python",
   "pygments_lexer": "ipython3",
   "version": "3.12.7"
  }
 },
 "nbformat": 4,
 "nbformat_minor": 5
}
